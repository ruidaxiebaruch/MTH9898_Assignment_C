{
 "cells": [
  {
   "cell_type": "code",
   "execution_count": 4,
   "metadata": {
    "collapsed": true
   },
   "outputs": [],
   "source": [
    "listOfCompanies = ['boeing', 'Boeing', '3M', 'Caterpillar', 'caterpillar', 'DuPont', 'dupont', 'intel', 'Intel',\n",
    "                   'Pfizer', 'pfizer', 'Merck', 'merck', 'Nike', 'nike', 'Verizon', 'verizon', 'visa', 'Visa', 'VISA']"
   ]
  },
  {
   "cell_type": "code",
   "execution_count": 6,
   "metadata": {
    "collapsed": false
   },
   "outputs": [
    {
     "data": {
      "text/plain": [
       "20"
      ]
     },
     "execution_count": 6,
     "metadata": {},
     "output_type": "execute_result"
    }
   ],
   "source": [
    "len(listOfCompanies)"
   ]
  },
  {
   "cell_type": "code",
   "execution_count": 17,
   "metadata": {
    "collapsed": false
   },
   "outputs": [
    {
     "data": {
      "text/plain": [
       "[1, 2, 0, 7, 9]"
      ]
     },
     "execution_count": 17,
     "metadata": {},
     "output_type": "execute_result"
    }
   ],
   "source": [
    "def count(strs):\n",
    "    res = 0;\n",
    "    i = 0;\n",
    "    listOfCompanies = ['Boeing', '3M', 'Caterpillar', 'Dupont', 'Intel', 'Pfizer', 'Merck', 'Nike', 'Verizon',\n",
    "                      'Visa', 'boeing', 'caterpillar', 'dupont', 'intel', 'pfizer', 'merck', 'nike', 'verizon',\n",
    "                      'visa', 'VISA'];\n",
    "    dictOfCompanies = {'boeing':0, 'Boeing':0, '3M':1, 'Caterpillar':2, 'caterpillar':2, 'DuPont':3, 'dupont':3, \n",
    "                       'intel':4, 'Intel':4, 'Pfizer':5, 'pfizer':5, 'Merck':6, 'merck':6, 'Nike':7, 'nike':7, \n",
    "                       'Verizon':8, 'verizon':8, 'visa':9, 'Visa':9, 'VISA':9}\n",
    "    res = [];\n",
    "    for string in listOfCompanies:\n",
    "        if string in strs:\n",
    "            res.append(dictOfCompanies[string]);\n",
    "    return res;\n",
    "count('boeing went to 3M to get Caterpillar to wear some nike and obtain a visa card')"
   ]
  },
  {
   "cell_type": "code",
   "execution_count": 25,
   "metadata": {
    "collapsed": false
   },
   "outputs": [
    {
     "data": {
      "text/plain": [
       "0.0"
      ]
     },
     "execution_count": 25,
     "metadata": {},
     "output_type": "execute_result"
    }
   ],
   "source": [
    "def GoodBadRatio(strs):\n",
    "    goodWords = ['good', 'best', 'great', 'awesome', 'fine'];\n",
    "    badWords = ['bad', 'worst', 'horrible', 'lame', 'sad'];\n",
    "    countGood = 0;\n",
    "    countBad = 0;\n",
    "    for word in goodWords:\n",
    "        if word in strs:\n",
    "            countGood += 1;\n",
    "    for word in badWords:\n",
    "        if word in strs:\n",
    "            countBad += 1;\n",
    "    if countBad == 0:\n",
    "        print('It is nothing bad.');\n",
    "    else:\n",
    "        goodOverBad = float(countGood)/float(countBad);\n",
    "    return goodOverBad;\n",
    "GoodBadRatio('visa is so bad. their service is the worst. I will never go back and get their lame service again');\n",
    "            "
   ]
  },
  {
   "cell_type": "code",
   "execution_count": null,
   "metadata": {
    "collapsed": true
   },
   "outputs": [],
   "source": []
  }
 ],
 "metadata": {
  "kernelspec": {
   "display_name": "Python 2",
   "language": "python",
   "name": "python2"
  },
  "language_info": {
   "codemirror_mode": {
    "name": "ipython",
    "version": 2
   },
   "file_extension": ".py",
   "mimetype": "text/x-python",
   "name": "python",
   "nbconvert_exporter": "python",
   "pygments_lexer": "ipython2",
   "version": "2.7.11"
  }
 },
 "nbformat": 4,
 "nbformat_minor": 0
}
